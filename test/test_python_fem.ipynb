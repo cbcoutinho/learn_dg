{
 "cells": [
  {
   "cell_type": "code",
   "execution_count": 1,
   "metadata": {
    "collapsed": true
   },
   "outputs": [],
   "source": [
    "%matplotlib inline\n",
    "import numpy as np\n",
    "import matplotlib.pyplot as plt\n",
    "\n",
    "from helper import *"
   ]
  },
  {
   "cell_type": "code",
   "execution_count": 2,
   "metadata": {
    "collapsed": false
   },
   "outputs": [
    {
     "name": "stdout",
     "output_type": "stream",
     "text": [
      "0 [0, 1] [ 0.          0.00526316]\n",
      "1 [1, 2] [ 0.00526316  0.01052632]\n",
      "2 [2, 3] [ 0.01052632  0.01578947]\n",
      "3 [3, 4] [ 0.01578947  0.02105263]\n",
      "4 [4, 5] [ 0.02105263  0.02631579]\n",
      "5 [5, 6] [ 0.02631579  0.03157895]\n",
      "6 [6, 7] [ 0.03157895  0.03684211]\n",
      "7 [7, 8] [ 0.03684211  0.04210526]\n",
      "8 [8, 9] [ 0.04210526  0.04736842]\n",
      "9 [9, 10] [ 0.04736842  0.05263158]\n",
      "10 [10, 11] [ 0.05263158  0.05789474]\n",
      "11 [11, 12] [ 0.05789474  0.06315789]\n",
      "12 [12, 13] [ 0.06315789  0.06842105]\n",
      "13 [13, 14] [ 0.06842105  0.07368421]\n",
      "14 [14, 15] [ 0.07368421  0.07894737]\n",
      "15 [15, 16] [ 0.07894737  0.08421053]\n",
      "16 [16, 17] [ 0.08421053  0.08947368]\n",
      "17 [17, 18] [ 0.08947368  0.09473684]\n",
      "18 [18, 19] [ 0.09473684  0.1       ]\n"
     ]
    }
   ],
   "source": [
    "N = 20\n",
    "global_coords = np.linspace(0, 0.1, N)\n",
    "nodes = list(range(N))\n",
    "elements = list(range(N-1))\n",
    "\n",
    "local_nodes = []\n",
    "for e in elements:\n",
    "    local_nodes.append([e,e+1])\n",
    "\n",
    "for e in elements:\n",
    "    print(e, local_nodes[e], global_coords[local_nodes[e]])"
   ]
  },
  {
   "cell_type": "code",
   "execution_count": 3,
   "metadata": {
    "collapsed": false
   },
   "outputs": [],
   "source": [
    "A = np.zeros((N, N))\n",
    "\n",
    "for element in elements:\n",
    "    A[element:element+2, element:element+2] += getIe(global_coords[local_nodes[element]])\n",
    "\n",
    "# A"
   ]
  },
  {
   "cell_type": "code",
   "execution_count": 4,
   "metadata": {
    "collapsed": false
   },
   "outputs": [],
   "source": [
    "A[0, 0] = 1\n",
    "A[0, 1:] = 0\n",
    "\n",
    "A[-1, -1] = 1\n",
    "A[-1, :-1] = 0\n",
    "\n",
    "# A"
   ]
  },
  {
   "cell_type": "code",
   "execution_count": 5,
   "metadata": {
    "collapsed": false
   },
   "outputs": [],
   "source": [
    "b = np.zeros((N,1))\n",
    "b[0] = 1\n",
    "# b"
   ]
  },
  {
   "cell_type": "code",
   "execution_count": 6,
   "metadata": {
    "collapsed": false
   },
   "outputs": [],
   "source": [
    "sol = np.linalg.solve(A, b)\n",
    "# sol"
   ]
  },
  {
   "cell_type": "code",
   "execution_count": 7,
   "metadata": {
    "collapsed": false
   },
   "outputs": [
    {
     "data": {
      "image/png": "[encoded data removed]",
      "text/plain": [
       "<matplotlib.figure.Figure at 0x7f94e5c35160>"
      ]
     },
     "metadata": {},
     "output_type": "display_data"
    }
   ],
   "source": [
    "for e in elements:\n",
    "    x = global_coords[local_nodes[e]]\n",
    "    y = sol[local_nodes[e]]\n",
    "    plt.plot(x, y, 'o-')"
   ]
  },
  {
   "cell_type": "code",
   "execution_count": null,
   "metadata": {
    "collapsed": false
   },
   "outputs": [],
   "source": []
  },
  {
   "cell_type": "code",
   "execution_count": null,
   "metadata": {
    "collapsed": true
   },
   "outputs": [],
   "source": []
  }
 ],
 "metadata": {
  "anaconda-cloud": {},
  "kernelspec": {
   "display_name": "Python [default]",
   "language": "python",
   "name": "python3"
  },
  "language_info": {
   "codemirror_mode": {
    "name": "ipython",
    "version": 3
   },
   "file_extension": ".py",
   "mimetype": "text/x-python",
   "name": "python",
   "nbconvert_exporter": "python",
   "pygments_lexer": "ipython3",
   "version": "3.5.2"
  }
 },
 "nbformat": 4,
 "nbformat_minor": 1
}
